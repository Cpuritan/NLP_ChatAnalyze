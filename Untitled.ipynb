{
 "cells": [
  {
   "cell_type": "code",
   "execution_count": 1,
   "id": "e60b3619",
   "metadata": {
    "ExecuteTime": {
     "end_time": "2022-06-08T08:26:26.235553Z",
     "start_time": "2022-06-08T08:26:23.586865Z"
    }
   },
   "outputs": [],
   "source": [
    "import jieba\n",
    "import sys,os\n",
    "import math\n",
    "import re\n",
    "import numpy as np\n",
    "from collections import defaultdict\n",
    "from nltk.probability import FreqDist  "
   ]
  },
  {
   "cell_type": "code",
   "execution_count": null,
   "id": "fd0e78f4",
   "metadata": {},
   "outputs": [],
   "source": [
    "f = open(\"../corpus_data/in_the_name_of_people_segment.txt\",encoding=\"utf-8\")\n",
    "text = f.read().split(\" \")\n",
    " \n",
    "stop_words = ['','\\ufeff','©','_','—','【','】',')','(','、','，','“','”','。','\\n','《','》',' ','-','！','？','.','\\'','[',']','：','/','.','\"','\\u3000','’','．',',','…','?']\n",
    "# 去停用词\n",
    "text_list = [word for word in text if word not in stop_words]\n",
    "\n",
    "# 词语最低熵\n",
    "min_entropy = 0.8 \n",
    "# 词语最低互信息\n",
    "min_p = 7\n",
    "# 词语最长长度\n",
    "max_gram = 4\n",
    "# 词语最低频率\n",
    "min_freq = 5"
   ]
  },
  {
   "cell_type": "code",
   "execution_count": null,
   "id": "fa9e1f7a",
   "metadata": {},
   "outputs": [],
   "source": []
  },
  {
   "cell_type": "code",
   "execution_count": null,
   "id": "9ffd95be",
   "metadata": {},
   "outputs": [],
   "source": []
  }
 ],
 "metadata": {
  "kernelspec": {
   "display_name": "Python 3",
   "language": "python",
   "name": "python3"
  },
  "language_info": {
   "codemirror_mode": {
    "name": "ipython",
    "version": 3
   },
   "file_extension": ".py",
   "mimetype": "text/x-python",
   "name": "python",
   "nbconvert_exporter": "python",
   "pygments_lexer": "ipython3",
   "version": "3.8.8"
  }
 },
 "nbformat": 4,
 "nbformat_minor": 5
}
